{
 "cells": [
  {
   "cell_type": "markdown",
   "id": "c8ecb4c0-b69d-4689-b775-fb180dd9b8f0",
   "metadata": {},
   "source": [
    "## Insurance Cost Analysis"
   ]
  },
  {
   "cell_type": "code",
   "execution_count": 27,
   "id": "7ad8ac1d-3afb-4263-80b0-6d25d6d9830d",
   "metadata": {},
   "outputs": [],
   "source": [
    "import pandas as pd\n",
    "import numpy as np\n",
    "import matplotlib.pyplot as plt\n",
    "import seaborn as sns\n",
    "from sklearn.linear_model import LinearRegression, Ridge\n",
    "from sklearn.model_selection import train_test_split, cross_val_score, GridSearchCV\n",
    "from sklearn.metrics import mean_squared_error, r2_score\n",
    "from sklearn.preprocessing import PolynomialFeatures, StandardScaler, OneHotEncoder\n",
    "from sklearn.pipeline import Pipeline\n",
    "from sklearn.compose import ColumnTransformer"
   ]
  },
  {
   "cell_type": "code",
   "execution_count": 28,
   "id": "cac3b9d4-e1de-4070-88f2-3ebac001c90c",
   "metadata": {},
   "outputs": [],
   "source": [
    "url = 'https://cf-courses-data.s3.us.cloud-object-storage.appdomain.cloud/IBMDeveloperSkillsNetwork-DA0101EN-Coursera/medical_insurance_dataset.csv'\n",
    "df = pd.read_csv(url, header=None)\n",
    "df_org = df\n",
    "# df.to_csv(\"Insurance cost.csv\")"
   ]
  },
  {
   "cell_type": "code",
   "execution_count": 29,
   "id": "831dd979-eb7b-498b-b8e6-93226e8ddebd",
   "metadata": {},
   "outputs": [
    {
     "data": {
      "text/html": [
       "<div>\n",
       "<style scoped>\n",
       "    .dataframe tbody tr th:only-of-type {\n",
       "        vertical-align: middle;\n",
       "    }\n",
       "\n",
       "    .dataframe tbody tr th {\n",
       "        vertical-align: top;\n",
       "    }\n",
       "\n",
       "    .dataframe thead th {\n",
       "        text-align: right;\n",
       "    }\n",
       "</style>\n",
       "<table border=\"1\" class=\"dataframe\">\n",
       "  <thead>\n",
       "    <tr style=\"text-align: right;\">\n",
       "      <th></th>\n",
       "      <th>0</th>\n",
       "      <th>1</th>\n",
       "      <th>2</th>\n",
       "      <th>3</th>\n",
       "      <th>4</th>\n",
       "      <th>5</th>\n",
       "      <th>6</th>\n",
       "    </tr>\n",
       "  </thead>\n",
       "  <tbody>\n",
       "    <tr>\n",
       "      <th>0</th>\n",
       "      <td>19</td>\n",
       "      <td>1</td>\n",
       "      <td>27.900</td>\n",
       "      <td>0</td>\n",
       "      <td>1</td>\n",
       "      <td>3</td>\n",
       "      <td>16884.92400</td>\n",
       "    </tr>\n",
       "    <tr>\n",
       "      <th>1</th>\n",
       "      <td>18</td>\n",
       "      <td>2</td>\n",
       "      <td>33.770</td>\n",
       "      <td>1</td>\n",
       "      <td>0</td>\n",
       "      <td>4</td>\n",
       "      <td>1725.55230</td>\n",
       "    </tr>\n",
       "    <tr>\n",
       "      <th>2</th>\n",
       "      <td>28</td>\n",
       "      <td>2</td>\n",
       "      <td>33.000</td>\n",
       "      <td>3</td>\n",
       "      <td>0</td>\n",
       "      <td>4</td>\n",
       "      <td>4449.46200</td>\n",
       "    </tr>\n",
       "    <tr>\n",
       "      <th>3</th>\n",
       "      <td>33</td>\n",
       "      <td>2</td>\n",
       "      <td>22.705</td>\n",
       "      <td>0</td>\n",
       "      <td>0</td>\n",
       "      <td>1</td>\n",
       "      <td>21984.47061</td>\n",
       "    </tr>\n",
       "    <tr>\n",
       "      <th>4</th>\n",
       "      <td>32</td>\n",
       "      <td>2</td>\n",
       "      <td>28.880</td>\n",
       "      <td>0</td>\n",
       "      <td>0</td>\n",
       "      <td>1</td>\n",
       "      <td>3866.85520</td>\n",
       "    </tr>\n",
       "  </tbody>\n",
       "</table>\n",
       "</div>"
      ],
      "text/plain": [
       "    0  1       2  3  4  5            6\n",
       "0  19  1  27.900  0  1  3  16884.92400\n",
       "1  18  2  33.770  1  0  4   1725.55230\n",
       "2  28  2  33.000  3  0  4   4449.46200\n",
       "3  33  2  22.705  0  0  1  21984.47061\n",
       "4  32  2  28.880  0  0  1   3866.85520"
      ]
     },
     "execution_count": 29,
     "metadata": {},
     "output_type": "execute_result"
    }
   ],
   "source": [
    "df.head()"
   ]
  },
  {
   "cell_type": "code",
   "execution_count": 30,
   "id": "539349b0-21fd-4cad-8baf-1e9e50ad6807",
   "metadata": {},
   "outputs": [
    {
     "data": {
      "text/html": [
       "<div>\n",
       "<style scoped>\n",
       "    .dataframe tbody tr th:only-of-type {\n",
       "        vertical-align: middle;\n",
       "    }\n",
       "\n",
       "    .dataframe tbody tr th {\n",
       "        vertical-align: top;\n",
       "    }\n",
       "\n",
       "    .dataframe thead th {\n",
       "        text-align: right;\n",
       "    }\n",
       "</style>\n",
       "<table border=\"1\" class=\"dataframe\">\n",
       "  <thead>\n",
       "    <tr style=\"text-align: right;\">\n",
       "      <th></th>\n",
       "      <th>age</th>\n",
       "      <th>gender</th>\n",
       "      <th>bmi</th>\n",
       "      <th>no_of_children</th>\n",
       "      <th>smoker</th>\n",
       "      <th>region</th>\n",
       "      <th>charges</th>\n",
       "    </tr>\n",
       "  </thead>\n",
       "  <tbody>\n",
       "    <tr>\n",
       "      <th>0</th>\n",
       "      <td>19</td>\n",
       "      <td>1</td>\n",
       "      <td>27.900</td>\n",
       "      <td>0</td>\n",
       "      <td>1</td>\n",
       "      <td>3</td>\n",
       "      <td>16884.92400</td>\n",
       "    </tr>\n",
       "    <tr>\n",
       "      <th>1</th>\n",
       "      <td>18</td>\n",
       "      <td>2</td>\n",
       "      <td>33.770</td>\n",
       "      <td>1</td>\n",
       "      <td>0</td>\n",
       "      <td>4</td>\n",
       "      <td>1725.55230</td>\n",
       "    </tr>\n",
       "    <tr>\n",
       "      <th>2</th>\n",
       "      <td>28</td>\n",
       "      <td>2</td>\n",
       "      <td>33.000</td>\n",
       "      <td>3</td>\n",
       "      <td>0</td>\n",
       "      <td>4</td>\n",
       "      <td>4449.46200</td>\n",
       "    </tr>\n",
       "    <tr>\n",
       "      <th>3</th>\n",
       "      <td>33</td>\n",
       "      <td>2</td>\n",
       "      <td>22.705</td>\n",
       "      <td>0</td>\n",
       "      <td>0</td>\n",
       "      <td>1</td>\n",
       "      <td>21984.47061</td>\n",
       "    </tr>\n",
       "    <tr>\n",
       "      <th>4</th>\n",
       "      <td>32</td>\n",
       "      <td>2</td>\n",
       "      <td>28.880</td>\n",
       "      <td>0</td>\n",
       "      <td>0</td>\n",
       "      <td>1</td>\n",
       "      <td>3866.85520</td>\n",
       "    </tr>\n",
       "  </tbody>\n",
       "</table>\n",
       "</div>"
      ],
      "text/plain": [
       "  age  gender     bmi  no_of_children smoker  region      charges\n",
       "0  19       1  27.900               0      1       3  16884.92400\n",
       "1  18       2  33.770               1      0       4   1725.55230\n",
       "2  28       2  33.000               3      0       4   4449.46200\n",
       "3  33       2  22.705               0      0       1  21984.47061\n",
       "4  32       2  28.880               0      0       1   3866.85520"
      ]
     },
     "execution_count": 30,
     "metadata": {},
     "output_type": "execute_result"
    }
   ],
   "source": [
    "colnames = ['age','gender','bmi','no_of_children','smoker','region','charges']\n",
    "df.columns = colnames\n",
    "df.head()"
   ]
  },
  {
   "cell_type": "code",
   "execution_count": 31,
   "id": "e25199f4-53f2-4b18-927c-7d53945d8215",
   "metadata": {},
   "outputs": [
    {
     "name": "stdout",
     "output_type": "stream",
     "text": [
      "<class 'pandas.core.frame.DataFrame'>\n",
      "RangeIndex: 2772 entries, 0 to 2771\n",
      "Data columns (total 7 columns):\n",
      " #   Column          Non-Null Count  Dtype  \n",
      "---  ------          --------------  -----  \n",
      " 0   age             2772 non-null   object \n",
      " 1   gender          2772 non-null   int64  \n",
      " 2   bmi             2772 non-null   float64\n",
      " 3   no_of_children  2772 non-null   int64  \n",
      " 4   smoker          2772 non-null   object \n",
      " 5   region          2772 non-null   int64  \n",
      " 6   charges         2772 non-null   float64\n",
      "dtypes: float64(2), int64(3), object(2)\n",
      "memory usage: 151.7+ KB\n"
     ]
    }
   ],
   "source": [
    "df.info()"
   ]
  },
  {
   "cell_type": "markdown",
   "id": "bb83c8da-3d25-4bfe-a3bb-0dc7c5742550",
   "metadata": {},
   "source": [
    "## Data cleaning"
   ]
  },
  {
   "cell_type": "code",
   "execution_count": 32,
   "id": "1526944c-863b-4d66-a873-ae4bf7cfe060",
   "metadata": {},
   "outputs": [
    {
     "data": {
      "text/plain": [
       "age\n",
       "18    148\n",
       "19    142\n",
       "47     62\n",
       "52     62\n",
       "45     62\n",
       "23     62\n",
       "46     60\n",
       "54     60\n",
       "51     60\n",
       "21     60\n",
       "28     60\n",
       "22     60\n",
       "26     60\n",
       "25     58\n",
       "27     58\n",
       "50     58\n",
       "20     58\n",
       "53     58\n",
       "48     58\n",
       "49     56\n",
       "24     56\n",
       "44     56\n",
       "41     56\n",
       "56     56\n",
       "30     56\n",
       "32     56\n",
       "33     54\n",
       "43     54\n",
       "42     54\n",
       "29     54\n",
       "57     54\n",
       "31     54\n",
       "40     54\n",
       "34     52\n",
       "58     52\n",
       "55     52\n",
       "59     52\n",
       "37     52\n",
       "39     50\n",
       "36     50\n",
       "38     50\n",
       "35     50\n",
       "62     48\n",
       "61     46\n",
       "60     46\n",
       "64     46\n",
       "63     46\n",
       "?       4\n",
       "Name: count, dtype: int64"
      ]
     },
     "execution_count": 32,
     "metadata": {},
     "output_type": "execute_result"
    }
   ],
   "source": [
    "df['age'].value_counts()"
   ]
  },
  {
   "cell_type": "code",
   "execution_count": 33,
   "id": "ba8ceb40-a39b-4628-93d7-58bf749acfad",
   "metadata": {},
   "outputs": [
    {
     "data": {
      "text/plain": [
       "age               4\n",
       "gender            0\n",
       "bmi               0\n",
       "no_of_children    0\n",
       "smoker            7\n",
       "region            0\n",
       "charges           0\n",
       "dtype: int64"
      ]
     },
     "execution_count": 33,
     "metadata": {},
     "output_type": "execute_result"
    }
   ],
   "source": [
    "df = df.replace(\"?\",np.nan)\n",
    "df.isna().sum()"
   ]
  },
  {
   "cell_type": "code",
   "execution_count": 34,
   "id": "8c7dd71a-5e4f-4616-95f7-682776fb7f82",
   "metadata": {},
   "outputs": [
    {
     "name": "stdout",
     "output_type": "stream",
     "text": [
      "<class 'pandas.core.frame.DataFrame'>\n",
      "RangeIndex: 2772 entries, 0 to 2771\n",
      "Data columns (total 7 columns):\n",
      " #   Column          Non-Null Count  Dtype  \n",
      "---  ------          --------------  -----  \n",
      " 0   age             2772 non-null   float64\n",
      " 1   gender          2772 non-null   int64  \n",
      " 2   bmi             2772 non-null   float64\n",
      " 3   no_of_children  2772 non-null   int64  \n",
      " 4   smoker          2772 non-null   int32  \n",
      " 5   region          2772 non-null   int64  \n",
      " 6   charges         2772 non-null   float64\n",
      "dtypes: float64(3), int32(1), int64(3)\n",
      "memory usage: 140.9 KB\n"
     ]
    }
   ],
   "source": [
    "df['age'] = pd.to_numeric(df['age'], errors='coerce')         # Numeric with NaNs perserved\n",
    "df['age'] = df['age'].fillna(df['age'].mean())\n",
    "df['smoker'] = df['smoker'].fillna(df['smoker'].mode()[0])\n",
    "df['smoker'] = df['smoker'].astype('int')\n",
    "df.info()\n",
    "df_org = df"
   ]
  },
  {
   "cell_type": "markdown",
   "id": "376d33b9-b2ce-4e51-98d2-cb7375a9a424",
   "metadata": {},
   "source": [
    "## Exploratory data analysis"
   ]
  },
  {
   "cell_type": "code",
   "execution_count": 35,
   "id": "c5d66229-2829-4538-9ffe-a971063aea34",
   "metadata": {},
   "outputs": [],
   "source": [
    "num_features = ['age','bmi','no_of_children']\n",
    "cat_features = ['gender','smoker','region']"
   ]
  },
  {
   "cell_type": "code",
   "execution_count": 24,
   "id": "73aff956-9954-4e96-89eb-631e343ea5ce",
   "metadata": {},
   "outputs": [
    {
     "data": {
      "text/html": [
       "<div>\n",
       "<style scoped>\n",
       "    .dataframe tbody tr th:only-of-type {\n",
       "        vertical-align: middle;\n",
       "    }\n",
       "\n",
       "    .dataframe tbody tr th {\n",
       "        vertical-align: top;\n",
       "    }\n",
       "\n",
       "    .dataframe thead th {\n",
       "        text-align: right;\n",
       "    }\n",
       "</style>\n",
       "<table border=\"1\" class=\"dataframe\">\n",
       "  <thead>\n",
       "    <tr style=\"text-align: right;\">\n",
       "      <th></th>\n",
       "      <th>age</th>\n",
       "      <th>bmi</th>\n",
       "      <th>no_of_children</th>\n",
       "      <th>charges</th>\n",
       "    </tr>\n",
       "  </thead>\n",
       "  <tbody>\n",
       "    <tr>\n",
       "      <th>age</th>\n",
       "      <td>1.000000</td>\n",
       "      <td>0.113045</td>\n",
       "      <td>0.037585</td>\n",
       "      <td>0.298622</td>\n",
       "    </tr>\n",
       "    <tr>\n",
       "      <th>bmi</th>\n",
       "      <td>0.113045</td>\n",
       "      <td>1.000000</td>\n",
       "      <td>-0.001492</td>\n",
       "      <td>0.199846</td>\n",
       "    </tr>\n",
       "    <tr>\n",
       "      <th>no_of_children</th>\n",
       "      <td>0.037585</td>\n",
       "      <td>-0.001492</td>\n",
       "      <td>1.000000</td>\n",
       "      <td>0.066442</td>\n",
       "    </tr>\n",
       "    <tr>\n",
       "      <th>charges</th>\n",
       "      <td>0.298622</td>\n",
       "      <td>0.199846</td>\n",
       "      <td>0.066442</td>\n",
       "      <td>1.000000</td>\n",
       "    </tr>\n",
       "  </tbody>\n",
       "</table>\n",
       "</div>"
      ],
      "text/plain": [
       "                     age       bmi  no_of_children   charges\n",
       "age             1.000000  0.113045        0.037585  0.298622\n",
       "bmi             0.113045  1.000000       -0.001492  0.199846\n",
       "no_of_children  0.037585 -0.001492        1.000000  0.066442\n",
       "charges         0.298622  0.199846        0.066442  1.000000"
      ]
     },
     "execution_count": 24,
     "metadata": {},
     "output_type": "execute_result"
    }
   ],
   "source": [
    "df[['age','bmi','no_of_children','charges']].corr()"
   ]
  },
  {
   "cell_type": "code",
   "execution_count": 36,
   "id": "25042ff1-7bdd-415b-97da-9d7a437a3d86",
   "metadata": {},
   "outputs": [],
   "source": [
    "df_org['gender'] = df_org['gender'].apply(lambda x: 'male' if x == 1 else 'female')\n",
    "#df_org['region'] = df_org['region'].apply(lambda x: 'NW' if x == 1 else 'NE' if x == 2 else 'SW' if x == 3 else 'SE' if x == 4 esle np.nan)\n",
    "region_map = {1:'NE',2:'NW',3:'SW',4:'SE'}\n",
    "df_org['region'] = df['region'].map(region_map)"
   ]
  },
  {
   "cell_type": "code",
   "execution_count": 37,
   "id": "edb6c908-83b4-40c3-9bf4-0338a17f90cf",
   "metadata": {},
   "outputs": [
    {
     "data": {
      "text/plain": [
       "Text(0.5, 1.0, 'Distribution of charges with respect to gender')"
      ]
     },
     "execution_count": 37,
     "metadata": {},
     "output_type": "execute_result"
    },
    {
     "data": {
      "image/png": "[encoded data removed]",
      "text/plain": [
       "<Figure size 640x480 with 1 Axes>"
      ]
     },
     "metadata": {},
     "output_type": "display_data"
    }
   ],
   "source": [
    "sns.boxplot(x='gender',y='charges',data=df_org)\n",
    "plt.title('Distribution of charges with respect to gender')"
   ]
  },
  {
   "cell_type": "code",
   "execution_count": 38,
   "id": "e0ad1c40-8d73-44f7-83c4-f513ac46527f",
   "metadata": {},
   "outputs": [
    {
     "data": {
      "text/plain": [
       "Text(0.5, 1.0, 'Distribution of charges with respect to smoking')"
      ]
     },
     "execution_count": 38,
     "metadata": {},
     "output_type": "execute_result"
    },
    {
     "data": {
      "image/png": "[encoded data removed]",
      "text/plain": [
       "<Figure size 640x480 with 1 Axes>"
      ]
     },
     "metadata": {},
     "output_type": "display_data"
    }
   ],
   "source": [
    "sns.boxplot(x='smoker',y='charges',data=df_org)\n",
    "plt.title('Distribution of charges with respect to smoking')"
   ]
  },
  {
   "cell_type": "code",
   "execution_count": 39,
   "id": "25a0c876-eacb-491f-b658-662dead0137b",
   "metadata": {},
   "outputs": [
    {
     "data": {
      "text/plain": [
       "<Axes: xlabel='region', ylabel='charges'>"
      ]
     },
     "execution_count": 39,
     "metadata": {},
     "output_type": "execute_result"
    },
    {
     "data": {
      "image/png": "[encoded data removed]",
      "text/plain": [
       "<Figure size 640x480 with 1 Axes>"
      ]
     },
     "metadata": {},
     "output_type": "display_data"
    }
   ],
   "source": [
    "sns.boxplot(x='region',y='charges',data=df_org)"
   ]
  },
  {
   "cell_type": "markdown",
   "id": "c765a820-2583-4e07-ba2f-c518594856f1",
   "metadata": {},
   "source": [
    "## Modeling"
   ]
  },
  {
   "cell_type": "code",
   "execution_count": 40,
   "id": "0a16c48f-2872-49b7-8cfe-94252d019d18",
   "metadata": {},
   "outputs": [
    {
     "name": "stdout",
     "output_type": "stream",
     "text": [
      "<class 'pandas.core.frame.DataFrame'>\n",
      "RangeIndex: 2772 entries, 0 to 2771\n",
      "Data columns (total 7 columns):\n",
      " #   Column          Non-Null Count  Dtype  \n",
      "---  ------          --------------  -----  \n",
      " 0   age             2772 non-null   float64\n",
      " 1   gender          2772 non-null   object \n",
      " 2   bmi             2772 non-null   float64\n",
      " 3   no_of_children  2772 non-null   int64  \n",
      " 4   smoker          2772 non-null   int32  \n",
      " 5   region          2772 non-null   object \n",
      " 6   charges         2772 non-null   float64\n",
      "dtypes: float64(3), int32(1), int64(1), object(2)\n",
      "memory usage: 140.9+ KB\n"
     ]
    }
   ],
   "source": [
    "df.info()"
   ]
  },
  {
   "cell_type": "code",
   "execution_count": 16,
   "id": "aaa7f93c-f949-422e-865c-4cd7cf111b72",
   "metadata": {},
   "outputs": [],
   "source": [
    "# Features & target\n",
    "X = df.drop('charges',axis=1)\n",
    "y = df['charges']"
   ]
  },
  {
   "cell_type": "code",
   "execution_count": 18,
   "id": "2ea37e0d-e08f-4a78-b082-bd99cff75db3",
   "metadata": {},
   "outputs": [
    {
     "data": {
      "text/html": [
       "<div>\n",
       "<style scoped>\n",
       "    .dataframe tbody tr th:only-of-type {\n",
       "        vertical-align: middle;\n",
       "    }\n",
       "\n",
       "    .dataframe tbody tr th {\n",
       "        vertical-align: top;\n",
       "    }\n",
       "\n",
       "    .dataframe thead th {\n",
       "        text-align: right;\n",
       "    }\n",
       "</style>\n",
       "<table border=\"1\" class=\"dataframe\">\n",
       "  <thead>\n",
       "    <tr style=\"text-align: right;\">\n",
       "      <th></th>\n",
       "      <th>age</th>\n",
       "      <th>gender</th>\n",
       "      <th>bmi</th>\n",
       "      <th>no_of_children</th>\n",
       "      <th>smoker</th>\n",
       "      <th>region</th>\n",
       "    </tr>\n",
       "  </thead>\n",
       "  <tbody>\n",
       "    <tr>\n",
       "      <th>0</th>\n",
       "      <td>19.0</td>\n",
       "      <td>male</td>\n",
       "      <td>27.900</td>\n",
       "      <td>0</td>\n",
       "      <td>1</td>\n",
       "      <td>SW</td>\n",
       "    </tr>\n",
       "    <tr>\n",
       "      <th>1</th>\n",
       "      <td>18.0</td>\n",
       "      <td>female</td>\n",
       "      <td>33.770</td>\n",
       "      <td>1</td>\n",
       "      <td>0</td>\n",
       "      <td>SE</td>\n",
       "    </tr>\n",
       "    <tr>\n",
       "      <th>2</th>\n",
       "      <td>28.0</td>\n",
       "      <td>female</td>\n",
       "      <td>33.000</td>\n",
       "      <td>3</td>\n",
       "      <td>0</td>\n",
       "      <td>SE</td>\n",
       "    </tr>\n",
       "    <tr>\n",
       "      <th>3</th>\n",
       "      <td>33.0</td>\n",
       "      <td>female</td>\n",
       "      <td>22.705</td>\n",
       "      <td>0</td>\n",
       "      <td>0</td>\n",
       "      <td>NE</td>\n",
       "    </tr>\n",
       "    <tr>\n",
       "      <th>4</th>\n",
       "      <td>32.0</td>\n",
       "      <td>female</td>\n",
       "      <td>28.880</td>\n",
       "      <td>0</td>\n",
       "      <td>0</td>\n",
       "      <td>NE</td>\n",
       "    </tr>\n",
       "    <tr>\n",
       "      <th>...</th>\n",
       "      <td>...</td>\n",
       "      <td>...</td>\n",
       "      <td>...</td>\n",
       "      <td>...</td>\n",
       "      <td>...</td>\n",
       "      <td>...</td>\n",
       "    </tr>\n",
       "    <tr>\n",
       "      <th>2767</th>\n",
       "      <td>47.0</td>\n",
       "      <td>male</td>\n",
       "      <td>45.320</td>\n",
       "      <td>1</td>\n",
       "      <td>0</td>\n",
       "      <td>SE</td>\n",
       "    </tr>\n",
       "    <tr>\n",
       "      <th>2768</th>\n",
       "      <td>21.0</td>\n",
       "      <td>male</td>\n",
       "      <td>34.600</td>\n",
       "      <td>0</td>\n",
       "      <td>0</td>\n",
       "      <td>SW</td>\n",
       "    </tr>\n",
       "    <tr>\n",
       "      <th>2769</th>\n",
       "      <td>19.0</td>\n",
       "      <td>female</td>\n",
       "      <td>26.030</td>\n",
       "      <td>1</td>\n",
       "      <td>1</td>\n",
       "      <td>NE</td>\n",
       "    </tr>\n",
       "    <tr>\n",
       "      <th>2770</th>\n",
       "      <td>23.0</td>\n",
       "      <td>female</td>\n",
       "      <td>18.715</td>\n",
       "      <td>0</td>\n",
       "      <td>0</td>\n",
       "      <td>NE</td>\n",
       "    </tr>\n",
       "    <tr>\n",
       "      <th>2771</th>\n",
       "      <td>54.0</td>\n",
       "      <td>female</td>\n",
       "      <td>31.600</td>\n",
       "      <td>0</td>\n",
       "      <td>0</td>\n",
       "      <td>SW</td>\n",
       "    </tr>\n",
       "  </tbody>\n",
       "</table>\n",
       "<p>2772 rows × 6 columns</p>\n",
       "</div>"
      ],
      "text/plain": [
       "       age  gender     bmi  no_of_children  smoker region\n",
       "0     19.0    male  27.900               0       1     SW\n",
       "1     18.0  female  33.770               1       0     SE\n",
       "2     28.0  female  33.000               3       0     SE\n",
       "3     33.0  female  22.705               0       0     NE\n",
       "4     32.0  female  28.880               0       0     NE\n",
       "...    ...     ...     ...             ...     ...    ...\n",
       "2767  47.0    male  45.320               1       0     SE\n",
       "2768  21.0    male  34.600               0       0     SW\n",
       "2769  19.0  female  26.030               1       1     NE\n",
       "2770  23.0  female  18.715               0       0     NE\n",
       "2771  54.0  female  31.600               0       0     SW\n",
       "\n",
       "[2772 rows x 6 columns]"
      ]
     },
     "execution_count": 18,
     "metadata": {},
     "output_type": "execute_result"
    }
   ],
   "source": [
    "X"
   ]
  },
  {
   "cell_type": "code",
   "execution_count": 17,
   "id": "952c8be7-9d7e-450e-8823-342a0626b4ab",
   "metadata": {},
   "outputs": [],
   "source": [
    "# Train test split\n",
    "x_train, x_test, y_train, y_test = train_test_split(X,y,test_size=0.3,random_state=42)"
   ]
  },
  {
   "cell_type": "markdown",
   "id": "6d465659-ff6e-4cdd-9f65-5b902a254ea8",
   "metadata": {},
   "source": [
    "#### Preprocessing"
   ]
  },
  {
   "cell_type": "markdown",
   "id": "3a8f7969-b8b5-4831-a172-c4ade3649a45",
   "metadata": {},
   "source": [
    "In scikit-learn, a transformer is any object that implements a .fit() and .transform method. \\\n",
    "They are used to modify or preprocess the input data (e.g., scale, encoed, extract) before it is passed to a model"
   ]
  },
  {
   "cell_type": "code",
   "execution_count": 20,
   "id": "9a9ccafe-260d-4273-bf91-c4df2fc35b0a",
   "metadata": {},
   "outputs": [],
   "source": [
    "# Transformer for numeric data\n",
    "numeric_transformer = Pipeline([\n",
    "    ('scaler', StandardScaler()),\n",
    "    ('poly', PolynomialFeatures(include_bias=False))\n",
    "])"
   ]
  },
  {
   "cell_type": "code",
   "execution_count": 21,
   "id": "1b2edbc8-e1c3-4c23-8b09-fd7487b1edb8",
   "metadata": {},
   "outputs": [],
   "source": [
    "# Transformer for categorical data\n",
    "categorical_transformer = OneHotEncoder(drop='first', handle_unknown='ignore')"
   ]
  },
  {
   "cell_type": "code",
   "execution_count": 22,
   "id": "5c3532b9-6c3a-4024-8f5e-b9308dbc988f",
   "metadata": {},
   "outputs": [],
   "source": [
    "# Combining numerical and categoriacl transformer into one preprocessor\n",
    "preprocessor = ColumnTransformer([\n",
    "    ('num', numeric_transformer, num_features),\n",
    "    ('cat', categorical_transformer, cat_features)\n",
    "])"
   ]
  },
  {
   "cell_type": "markdown",
   "id": "f8b82db9-baf4-4e67-ba74-a879a396c793",
   "metadata": {},
   "source": [
    "ColumnTransformer([...]) applies diferent transformation to different columns\n",
    "\n",
    "ColumnTransformer(transformers, remainder='drop', sparse_treshold=0.3,...)\n",
    "- transformers    - a list of 3-tuples (name, transformer, columns)\n",
    "    - name         - defined fo later access/debuging\n",
    "    - transformer  - transformer to apply (it can be a pipeline)\n",
    "    - columns      - a list of columns\n",
    "- remainder       - what to do with the columns that aren't explicilty tranformed ('drop','passthrough')\n",
    "- spare_treshold  - converts output to dense if proportion of spare features is below this treshold"
   ]
  },
  {
   "cell_type": "markdown",
   "id": "a234e9a0-502e-45f9-8438-961998144b13",
   "metadata": {},
   "source": [
    "#### Final pipeline"
   ]
  },
  {
   "cell_type": "code",
   "execution_count": 23,
   "id": "37c7c21f-60f4-4ccf-bc92-e6058dd4c031",
   "metadata": {},
   "outputs": [],
   "source": [
    "pipeline = Pipeline([\n",
    "    ('preprocessor', preprocessor),\n",
    "    ('regressor', Ridge())\n",
    "])"
   ]
  },
  {
   "cell_type": "code",
   "execution_count": null,
   "id": "db34b4d5-565e-4b99-beb8-ef7b6759f5a1",
   "metadata": {},
   "outputs": [],
   "source": [
    "# Pipeline([\n",
    "#     ('step1_name', transformer1),\n",
    "#     ('step2_name', transformer2),\n",
    "#     ...\n",
    "#     ('final_step', estimator)\n",
    "# ])"
   ]
  },
  {
   "cell_type": "markdown",
   "id": "6ab36540-b26b-4fde-a183-7f80cd7ce8cd",
   "metadata": {},
   "source": [
    "#### Gride Search"
   ]
  },
  {
   "cell_type": "code",
   "execution_count": 52,
   "id": "ee8fc6d9-d7a6-40c4-9fcc-56bf58176b52",
   "metadata": {},
   "outputs": [],
   "source": [
    "param_grid = {\n",
    "    'preprocessor__num__poly__degree':[1,2],\n",
    "    'regressor__alpha': [0.01,0.1,1,10,100]\n",
    "}"
   ]
  },
  {
   "cell_type": "code",
   "execution_count": 53,
   "id": "63db74af-507b-4623-aef7-1d7464a722be",
   "metadata": {},
   "outputs": [
    {
     "name": "stdout",
     "output_type": "stream",
     "text": [
      "Starting GridSearch...\n",
      "Fitting 5 folds for each of 10 candidates, totalling 50 fits\n",
      "Done!\n"
     ]
    }
   ],
   "source": [
    "grid = GridSearchCV(pipeline, param_grid, cv=5, scoring='neg_mean_squared_error', verbose=1, n_jobs=-1)\n",
    "# verbose=1   - print when each fold starts\n",
    "# n_jobs =-1  - running fitting on multiple CPU cores\n",
    "print(\"Starting GridSearch...\")\n",
    "grid.fit(x_train, y_train)\n",
    "print(\"Done!\")"
   ]
  },
  {
   "cell_type": "code",
   "execution_count": 54,
   "id": "9f6be552-4952-42a0-a7e1-b9c2afed54e3",
   "metadata": {},
   "outputs": [],
   "source": [
    "# Best model\n",
    "best_model = grid.best_estimator_\n",
    "y_pred_best_model = best_model.predict(x_test)"
   ]
  },
  {
   "cell_type": "code",
   "execution_count": 55,
   "id": "ac5b75a2-7332-4d85-ab95-34fd3c5157ce",
   "metadata": {},
   "outputs": [],
   "source": [
    "MSE_test_best_model = mean_squared_error(y_test, y_pred_best_model)\n",
    "R2_test_best_model = r2_score(y_test, y_pred_best_model)"
   ]
  },
  {
   "cell_type": "code",
   "execution_count": 57,
   "id": "2b196b16-2c6f-4fae-a21b-559e89f79316",
   "metadata": {},
   "outputs": [
    {
     "name": "stdout",
     "output_type": "stream",
     "text": [
      "Best parameters:  {'preprocessor__num__poly__degree': 2, 'regressor__alpha': 0.1}\n",
      "Test MSE:  39614771.7036928\n",
      "Test R2:  0.7468196459610217\n"
     ]
    }
   ],
   "source": [
    "print(\"Best parameters: \", grid.best_params_)\n",
    "print(\"Test MSE: \", MSE_test_best_model)\n",
    "print(\"Test R2: \", R2_test_best_model)"
   ]
  }
 ],
 "metadata": {
  "kernelspec": {
   "display_name": "Python 3 (ipykernel)",
   "language": "python",
   "name": "python3"
  },
  "language_info": {
   "codemirror_mode": {
    "name": "ipython",
    "version": 3
   },
   "file_extension": ".py",
   "mimetype": "text/x-python",
   "name": "python",
   "nbconvert_exporter": "python",
   "pygments_lexer": "ipython3",
   "version": "3.12.9"
  }
 },
 "nbformat": 4,
 "nbformat_minor": 5
}
